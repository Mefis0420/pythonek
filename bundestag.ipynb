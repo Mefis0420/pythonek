import matplotlib.pyplot as plt
import numpy as np

y = np.array([206, 196, 118, 92, 83, 39, 1])
mylabels = ["SPD", "CDU", "GREENS", "FDP", "AFD", "LEFT", "OTHERS"]

plt.pie(y, labels = mylabels, startangle = 90)
plt.show() 